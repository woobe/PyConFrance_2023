{
 "cells": [
  {
   "cell_type": "code",
   "execution_count": 1,
   "metadata": {
    "id": "0vZx4CW-PGvQ",
    "tags": []
   },
   "outputs": [],
   "source": [
    "import datapane as dp\n",
    "from vega_datasets import data  # for the Iris dataset"
   ]
  },
  {
   "cell_type": "markdown",
   "metadata": {},
   "source": [
    "## Here is the stuff I want to show ↓"
   ]
  },
  {
   "cell_type": "code",
   "execution_count": 2,
   "metadata": {
    "id": "vjL2Wg0cX79K",
    "tags": []
   },
   "outputs": [
    {
     "data": {
      "text/html": [
       "<style>\n",
       "  #dp-c3b01fdf920e40b7acd8edda13d14421 {\n",
       "    width: 1px;\n",
       "    min-width: 100%;\n",
       "  }\n",
       "</style>\n",
       "<script src=\"https://cdnjs.cloudflare.com/ajax/libs/iframe-resizer/4.3.2/iframeResizer.min.js\" integrity=\"sha512-dnvR4Aebv5bAtJxDunq3eE8puKAJrY9GBJYl9GC6lTOEC76s1dbDfJFcL9GyzpaDW4vlI/UjR8sKbc1j6Ynx6w==\" crossorigin=\"anonymous\" referrerpolicy=\"no-referrer\"></script>\n",
       "<iframe id=\"dp-c3b01fdf920e40b7acd8edda13d14421\" srcdoc=\"&lt;!DOCTYPE html&gt;\n",
       "&lt;html lang=&#34;en&#34;&gt;\n",
       "  &lt;head&gt;\n",
       "    &lt;meta charset=&#34;UTF-8&#34; /&gt;\n",
       "    &lt;script src=&#34;https://kit.fontawesome.com/256c714d9a.js&#34;&gt;&lt;/script&gt;\n",
       "    &lt;link\n",
       "      href=&#34;https://fonts.googleapis.com/css?family=Inter:400,500,600,700|Inconsolata|Karla|Rubik&amp;display=swap&#34;\n",
       "      rel=&#34;stylesheet&#34;\n",
       "    /&gt;\n",
       "    &lt;script&gt;\n",
       "      window.dpLocal = true;\n",
       "      \n",
       "        window.dpLocalViewEvent = true;\n",
       "        window.dpReportId = &#34;c3b01fdf920e40b7acd8edda13d14421&#34;;\n",
       "        window.dpAuthorId = &#34;e5ba29cb394d44be84eb59f8df713d6c&#34;;\n",
       "      \n",
       "    &lt;/script&gt;\n",
       "    \n",
       "      &lt;link rel=&#34;stylesheet&#34; href=&#34;https://datapane-cdn.com/v0.15.7/local-report/local-report-base.css&#34;&gt;\n",
       "    \n",
       "    &lt;script&gt;\n",
       "      const report = { document: &#34;\\u003cReport version=\\&#34;1\\&#34;\\u003e\\u003cMeta\\u003e\\u003cAuthor\\u003eAnonymous\\u003c/Author\\u003e\\u003cCreatedOn\\u003e2023-02-17T22:06:26Z\\u003c/CreatedOn\\u003e\\u003cTitle\\u003eStringified App\\u003c/Title\\u003e\\u003cDescription\\u003e\\u003c![CDATA[Description]]\\u003e\\u003c/Description\\u003e\\u003c/Meta\\u003e\\u003cInternal/\\u003e\\u003cPages\\u003e\\u003cPage\\u003e\\u003cDataTable type=\\&#34;application/vnd.apache.arrow+binary\\&#34; size=\\&#34;8050\\&#34; uploaded_filename=\\&#34;dp-tmp-o01yni8t.arrow\\&#34; rows=\\&#34;150\\&#34; columns=\\&#34;5\\&#34; schema=\\&#34;[]\\&#34; src=\\&#34;data:application/vnd.apache.arrow+binary;base64,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\\&#34;/\\u003e\\u003c/Page\\u003e\\u003c/Pages\\u003e\\u003c/Report\\u003e&#34;, width: &#34;&#34;, output_is_light_prose: false };\n",
       "      const htmlHeader = `&lt;style type=&#34;text/css&#34;&gt;:root {\n",
       "    --dp-accent-color: #4E46E5;\n",
       "    --dp-bg-color: #FFF;\n",
       "    --dp-text-align: justify;\n",
       "    --dp-font-family: Inter var, ui-sans-serif, system-ui;\n",
       "}&lt;/style&gt;`;\n",
       "      window.reportProps = { report, htmlHeader };\n",
       "    &lt;/script&gt;\n",
       "    \n",
       "      &lt;script type=&#34;module&#34;&gt;\n",
       "        import { mountReport } from &#34;https://datapane-cdn.com/v0.15.7/report/index.es.js&#34;;\n",
       "        mountReport(window.reportProps);\n",
       "      &lt;/script&gt;\n",
       "    \n",
       "  &lt;/head&gt;\n",
       "  &lt;body&gt;\n",
       "    &lt;main class=&#34;max-w-screen-xl w-full mx-auto&#34;&gt;\n",
       "      &lt;div id=&#34;report&#34; class=&#34;w-full&#34;&gt;&lt;/div&gt;\n",
       "    &lt;/main&gt;\n",
       "    &lt;script src=&#34;https://cdnjs.cloudflare.com/ajax/libs/iframe-resizer/4.3.2/iframeResizer.contentWindow.min.js&#34; integrity=&#34;sha512-14SY6teTzhrLWeL55Q4uCyxr6GQOxF3pEoMxo2mBxXwPRikdMtzKMYWy2B5Lqjr6PHHoGOxZgPaxUYKQrSmu0A==&#34; crossorigin=&#34;anonymous&#34; referrerpolicy=&#34;no-referrer&#34;&gt;&lt;/script&gt;  &lt;/body&gt;\n",
       "&lt;/html&gt;\" style=\"border:none;\"></iframe>\n",
       "<script>\n",
       "  iFrameResize({ log: true, checkOrigin: false }, '#dp-c3b01fdf920e40b7acd8edda13d14421')\n",
       "</script>"
      ],
      "text/plain": [
       "<IPython.core.display.HTML object>"
      ]
     },
     "metadata": {},
     "output_type": "display_data"
    }
   ],
   "source": [
    "## Stuff I want to show (no change)\n",
    "df = data.iris()\n",
    "dp.DataTable(df)"
   ]
  },
  {
   "cell_type": "markdown",
   "metadata": {},
   "source": [
    "## Here is the stuff I do not want to show ↓"
   ]
  },
  {
   "cell_type": "code",
   "execution_count": 3,
   "metadata": {
    "colab": {
     "base_uri": "https://localhost:8080/",
     "height": 175
    },
    "id": "qYG5qc6xyXIc",
    "outputId": "98612d73-48a7-4375-b4fc-cf537c32e599",
    "tags": [
     "dp-exclude"
    ]
   },
   "outputs": [
    {
     "data": {
      "text/html": [
       "<style>\n",
       "  #dp-fa0764914ace440aacd18900ea313195 {\n",
       "    width: 1px;\n",
       "    min-width: 100%;\n",
       "  }\n",
       "</style>\n",
       "<script src=\"https://cdnjs.cloudflare.com/ajax/libs/iframe-resizer/4.3.2/iframeResizer.min.js\" integrity=\"sha512-dnvR4Aebv5bAtJxDunq3eE8puKAJrY9GBJYl9GC6lTOEC76s1dbDfJFcL9GyzpaDW4vlI/UjR8sKbc1j6Ynx6w==\" crossorigin=\"anonymous\" referrerpolicy=\"no-referrer\"></script>\n",
       "<iframe id=\"dp-fa0764914ace440aacd18900ea313195\" srcdoc=\"&lt;!DOCTYPE html&gt;\n",
       "&lt;html lang=&#34;en&#34;&gt;\n",
       "  &lt;head&gt;\n",
       "    &lt;meta charset=&#34;UTF-8&#34; /&gt;\n",
       "    &lt;script src=&#34;https://kit.fontawesome.com/256c714d9a.js&#34;&gt;&lt;/script&gt;\n",
       "    &lt;link\n",
       "      href=&#34;https://fonts.googleapis.com/css?family=Inter:400,500,600,700|Inconsolata|Karla|Rubik&amp;display=swap&#34;\n",
       "      rel=&#34;stylesheet&#34;\n",
       "    /&gt;\n",
       "    &lt;script&gt;\n",
       "      window.dpLocal = true;\n",
       "      \n",
       "        window.dpLocalViewEvent = true;\n",
       "        window.dpReportId = &#34;fa0764914ace440aacd18900ea313195&#34;;\n",
       "        window.dpAuthorId = &#34;e5ba29cb394d44be84eb59f8df713d6c&#34;;\n",
       "      \n",
       "    &lt;/script&gt;\n",
       "    \n",
       "      &lt;link rel=&#34;stylesheet&#34; href=&#34;https://datapane-cdn.com/v0.15.7/local-report/local-report-base.css&#34;&gt;\n",
       "    \n",
       "    &lt;script&gt;\n",
       "      const report = { document: &#34;\\u003cReport version=\\&#34;1\\&#34;\\u003e\\u003cMeta\\u003e\\u003cAuthor\\u003eAnonymous\\u003c/Author\\u003e\\u003cCreatedOn\\u003e2023-02-17T22:06:26Z\\u003c/CreatedOn\\u003e\\u003cTitle\\u003eStringified App\\u003c/Title\\u003e\\u003cDescription\\u003e\\u003c![CDATA[Description]]\\u003e\\u003c/Description\\u003e\\u003c/Meta\\u003e\\u003cInternal/\\u003e\\u003cPages\\u003e\\u003cPage\\u003e\\u003cGroup columns=\\&#34;2\\&#34;\\u003e\\u003cBigNumber heading=\\&#34;Simple Statistic\\&#34; value=\\&#34;5.84\\&#34; is_positive_intent=\\&#34;false\\&#34; is_upward_change=\\&#34;false\\&#34;/\\u003e\\u003cBigNumber heading=\\&#34;Simple Text\\&#34; value=\\&#34;Hello, World! \\ud83d\\udc4b\\&#34; is_positive_intent=\\&#34;false\\&#34; is_upward_change=\\&#34;false\\&#34;/\\u003e\\u003c/Group\\u003e\\u003c/Page\\u003e\\u003c/Pages\\u003e\\u003c/Report\\u003e&#34;, width: &#34;&#34;, output_is_light_prose: false };\n",
       "      const htmlHeader = `&lt;style type=&#34;text/css&#34;&gt;:root {\n",
       "    --dp-accent-color: #4E46E5;\n",
       "    --dp-bg-color: #FFF;\n",
       "    --dp-text-align: justify;\n",
       "    --dp-font-family: Inter var, ui-sans-serif, system-ui;\n",
       "}&lt;/style&gt;`;\n",
       "      window.reportProps = { report, htmlHeader };\n",
       "    &lt;/script&gt;\n",
       "    \n",
       "      &lt;script type=&#34;module&#34;&gt;\n",
       "        import { mountReport } from &#34;https://datapane-cdn.com/v0.15.7/report/index.es.js&#34;;\n",
       "        mountReport(window.reportProps);\n",
       "      &lt;/script&gt;\n",
       "    \n",
       "  &lt;/head&gt;\n",
       "  &lt;body&gt;\n",
       "    &lt;main class=&#34;max-w-screen-xl w-full mx-auto&#34;&gt;\n",
       "      &lt;div id=&#34;report&#34; class=&#34;w-full&#34;&gt;&lt;/div&gt;\n",
       "    &lt;/main&gt;\n",
       "    &lt;script src=&#34;https://cdnjs.cloudflare.com/ajax/libs/iframe-resizer/4.3.2/iframeResizer.contentWindow.min.js&#34; integrity=&#34;sha512-14SY6teTzhrLWeL55Q4uCyxr6GQOxF3pEoMxo2mBxXwPRikdMtzKMYWy2B5Lqjr6PHHoGOxZgPaxUYKQrSmu0A==&#34; crossorigin=&#34;anonymous&#34; referrerpolicy=&#34;no-referrer&#34;&gt;&lt;/script&gt;  &lt;/body&gt;\n",
       "&lt;/html&gt;\" style=\"border:none;\"></iframe>\n",
       "<script>\n",
       "  iFrameResize({ log: true, checkOrigin: false }, '#dp-fa0764914ace440aacd18900ea313195')\n",
       "</script>"
      ],
      "text/plain": [
       "<IPython.core.display.HTML object>"
      ]
     },
     "metadata": {},
     "output_type": "display_data"
    }
   ],
   "source": [
    "# Stuff I DO NOT want to show (using the `dp-exclude` tag in notebook)\n",
    "# e.g. data engineering pipelines, tuning/training machine learning models\n",
    "dp.Group(\n",
    "    dp.BigNumber(heading=\"Simple Statistic\", value=df[\"sepalLength\"].mean().round(2)),\n",
    "    dp.BigNumber(heading=\"Simple Text\", value=\"Hello, World! 👋\"),\n",
    "    columns=2,\n",
    ")"
   ]
  },
  {
   "cell_type": "markdown",
   "metadata": {
    "id": "URMroiPvRL9f"
   },
   "source": [
    "<br>"
   ]
  },
  {
   "cell_type": "code",
   "execution_count": 4,
   "metadata": {
    "colab": {
     "base_uri": "https://localhost:8080/",
     "height": 409
    },
    "id": "1C5H_JWq69lQ",
    "outputId": "1e56b235-4142-4b2a-d2ab-5a256c025336"
   },
   "outputs": [],
   "source": [
    "# Save your notebook before running this line\n",
    "# dp.App.from_notebook().upload(name=\"My Second App\")"
   ]
  }
 ],
 "metadata": {
  "colab": {
   "provenance": []
  },
  "kernelspec": {
   "display_name": "Python 3 (ipykernel)",
   "language": "python",
   "name": "python3"
  },
  "language_info": {
   "codemirror_mode": {
    "name": "ipython",
    "version": 3
   },
   "file_extension": ".py",
   "mimetype": "text/x-python",
   "name": "python",
   "nbconvert_exporter": "python",
   "pygments_lexer": "ipython3",
   "version": "3.9.6"
  }
 },
 "nbformat": 4,
 "nbformat_minor": 4
}
